{
 "metadata": {
  "name": "field_data_scratch"
 },
 "nbformat": 3,
 "nbformat_minor": 0,
 "worksheets": [
  {
   "cells": [
    {
     "cell_type": "code",
     "collapsed": false,
     "input": [
      "import pandas as pd\n",
      "import numpy as np\n",
      "import tempfile\n",
      "import csv"
     ],
     "language": "python",
     "metadata": {},
     "outputs": [],
     "prompt_number": 83
    },
    {
     "cell_type": "code",
     "collapsed": false,
     "input": [
      "CSV_COLUMN_NAMES = ['OBSERVER', 'DATE', 'SITE', 'SPECIES', 'MEASUREMENT_TYPE', 'COUNTING',]\n",
      "CSV_HEADER_ROW = 2"
     ],
     "language": "python",
     "metadata": {},
     "outputs": [],
     "prompt_number": 241
    },
    {
     "cell_type": "markdown",
     "metadata": {},
     "source": [
      "Remove blank lines from the CSV"
     ]
    },
    {
     "cell_type": "code",
     "collapsed": false,
     "input": [
      "tmp_csv = tempfile.TemporaryFile(mode='w+b')\n",
      "writer = csv.writer(tmp_csv)\n",
      "with open('fixtures/example_field_data.csv', 'rU') as csv_file:\n",
      "    for row in csv.reader(csv_file):\n",
      "        if any(field.strip() for field in row):\n",
      "            print('Writing: ' + str(row))\n",
      "            writer.writerow(row)\n",
      "\n"
     ],
     "language": "python",
     "metadata": {},
     "outputs": [
      {
       "output_type": "stream",
       "stream": "stdout",
       "text": [
        "Writing: ['Counting flowers or stalks per plant', '', '', '', '', '', '', '', '', '', '', '', '', '', '', '']\n",
        "Writing: ['', '', '', 'MENU TAB', '', '', 'Measurements', '', '', '', '', '', '', '', '', '']\n",
        "Writing: ['Observer', 'Date', 'Site', 'Species', 'Type', 'Counting', '1', '2', '3', '4', '5', '6', '7', '8', '9', '10']\n",
        "Writing: ['DWI Eg #1', '5/24/03', 'Rocky Meadow #1', 'Taraxacum officina', 'Site', 'Flowers', '390', '200', '35', '6', '', '', '', '', '', '']\n",
        "Writing: ['DWI Eg #2', '7/21/09', 'Stream plot #1', 'Linum lewisii', 'Individual', 'Flowers per stalk', '2', '1', '', '', '', '', '', '', '', '']\n",
        "Writing: ['DWI Eg #2', '7/21/09', 'Stream plot #1', 'Linum lewisii', 'Individual', 'Flowers per stalk', '3', '2', '', '', '', '', '', '', '', '']\n",
        "Writing: ['DWI Eg #2', '7/21/09', 'Stream plot #1', 'Linum lewisii', 'Individual', 'Flowers per stalk', '', '1', '', '', '1', '', '', '', '', '']\n",
        "Writing: ['DWI Eg #2', '7/21/09', 'Stream plot #1', 'Linum lewisii', 'Individual', 'Flowers per stalk', '1', '', '', '', '', '', '', '', '', '']\n",
        "Writing: ['DWI Eg #2', '7/21/09', 'Rocky Meadow #1', 'Linum lewisii', 'Individual', 'Flowers per stalk', '1', '', '', '', '', '', '', '', '', '']\n"
       ]
      }
     ],
     "prompt_number": 242
    },
    {
     "cell_type": "code",
     "collapsed": false,
     "input": [
      "tmp_csv.seek(0)\n",
      "df = pd.read_csv(tmp_csv, header=CSV_HEADER_ROW, index_col=[1], parse_dates=True, prefix='Measurement', na_values=[''])"
     ],
     "language": "python",
     "metadata": {},
     "outputs": [],
     "prompt_number": 243
    },
    {
     "cell_type": "code",
     "collapsed": false,
     "input": [
      "df.index"
     ],
     "language": "python",
     "metadata": {},
     "outputs": [
      {
       "output_type": "pyout",
       "prompt_number": 244,
       "text": [
        "<class 'pandas.tseries.index.DatetimeIndex'>\n",
        "[2003-05-24 00:00:00, ..., 2009-07-21 00:00:00]\n",
        "Length: 6, Freq: None, Timezone: None"
       ]
      }
     ],
     "prompt_number": 244
    },
    {
     "cell_type": "code",
     "collapsed": false,
     "input": [
      "df.loc[:,['Observer']]"
     ],
     "language": "python",
     "metadata": {},
     "outputs": [
      {
       "html": [
        "<div style=\"max-height:1000px;max-width:1500px;overflow:auto;\">\n",
        "<table border=\"1\" class=\"dataframe\">\n",
        "  <thead>\n",
        "    <tr style=\"text-align: right;\">\n",
        "      <th></th>\n",
        "      <th>Observer</th>\n",
        "    </tr>\n",
        "    <tr>\n",
        "      <th>Date</th>\n",
        "      <th></th>\n",
        "    </tr>\n",
        "  </thead>\n",
        "  <tbody>\n",
        "    <tr>\n",
        "      <th>2003-05-24</th>\n",
        "      <td> DWI Eg #1</td>\n",
        "    </tr>\n",
        "    <tr>\n",
        "      <th>2009-07-21</th>\n",
        "      <td> DWI Eg #2</td>\n",
        "    </tr>\n",
        "    <tr>\n",
        "      <th>2009-07-21</th>\n",
        "      <td> DWI Eg #2</td>\n",
        "    </tr>\n",
        "    <tr>\n",
        "      <th>2009-07-21</th>\n",
        "      <td> DWI Eg #2</td>\n",
        "    </tr>\n",
        "    <tr>\n",
        "      <th>2009-07-21</th>\n",
        "      <td> DWI Eg #2</td>\n",
        "    </tr>\n",
        "    <tr>\n",
        "      <th>2009-07-21</th>\n",
        "      <td> DWI Eg #2</td>\n",
        "    </tr>\n",
        "  </tbody>\n",
        "</table>\n",
        "</div>"
       ],
       "output_type": "pyout",
       "prompt_number": 245,
       "text": [
        "             Observer\n",
        "Date                 \n",
        "2003-05-24  DWI Eg #1\n",
        "2009-07-21  DWI Eg #2\n",
        "2009-07-21  DWI Eg #2\n",
        "2009-07-21  DWI Eg #2\n",
        "2009-07-21  DWI Eg #2\n",
        "2009-07-21  DWI Eg #2"
       ]
      }
     ],
     "prompt_number": 245
    },
    {
     "cell_type": "code",
     "collapsed": false,
     "input": [
      "np.unique(np.asarray(df.index))"
     ],
     "language": "python",
     "metadata": {},
     "outputs": [
      {
       "output_type": "pyout",
       "prompt_number": 246,
       "text": [
        "array(['2003-05-23T20:00:00.000000000-0400',\n",
        "       '2009-07-20T20:00:00.000000000-0400'], dtype='datetime64[ns]')"
       ]
      }
     ],
     "prompt_number": 246
    },
    {
     "cell_type": "code",
     "collapsed": false,
     "input": [
      "for name in np.unique(df.Site):\n",
      "    print(name)"
     ],
     "language": "python",
     "metadata": {},
     "outputs": [
      {
       "output_type": "stream",
       "stream": "stdout",
       "text": [
        "Rocky Meadow #1\n",
        "Stream plot #1\n"
       ]
      }
     ],
     "prompt_number": 247
    },
    {
     "cell_type": "code",
     "collapsed": false,
     "input": [
      "from ovation import DateTime, DateTimeZone\n",
      "from ovation.core import *\n",
      "df['Date'] = [DateTime(str(d)) for d in np.asarray(df.index)]\n"
     ],
     "language": "python",
     "metadata": {},
     "outputs": [],
     "prompt_number": 248
    },
    {
     "cell_type": "code",
     "collapsed": false,
     "input": [
      "for (i,r) in df.groupby([lambda x: x, lambda y: df.loc[y]['Site']]):\n",
      "    print len(r)"
     ],
     "language": "python",
     "metadata": {},
     "outputs": [
      {
       "output_type": "stream",
       "stream": "stdout",
       "text": [
        "1\n",
        "1\n",
        "4\n"
       ]
      }
     ],
     "prompt_number": 275
    },
    {
     "cell_type": "code",
     "collapsed": false,
     "input": [
      "df.groupby([lambda x: x, lambda y: df.loc[y]['Site']]).size()"
     ],
     "language": "python",
     "metadata": {},
     "outputs": [
      {
       "output_type": "pyout",
       "prompt_number": 278,
       "text": [
        "2003-05-24  Rocky Meadow #1    1\n",
        "2009-07-21  Rocky Meadow #1    1\n",
        "            Stream plot #1     4\n",
        "dtype: int64"
       ]
      }
     ],
     "prompt_number": 278
    },
    {
     "cell_type": "code",
     "collapsed": false,
     "input": [
      "t"
     ],
     "language": "python",
     "metadata": {},
     "outputs": [
      {
       "output_type": "pyout",
       "prompt_number": 282,
       "text": [
        "<Timestamp: 2009-07-21 00:00:00>"
       ]
      }
     ],
     "prompt_number": 282
    },
    {
     "cell_type": "code",
     "collapsed": false,
     "input": [
      "import datetime\n",
      "t=i[0]\n",
      "d = DateTime(t.isoformat(), DateTimeZone.forID(None))\n",
      "pd.Timestamp(datetime.datetime(d.getYear(), d.getMonthOfYear(), d.getDayOfMonth(), d.getHourOfDay(), d.getMinuteOfHour(), d.getSecondOfMinute()))"
     ],
     "language": "python",
     "metadata": {},
     "outputs": [
      {
       "output_type": "pyout",
       "prompt_number": 288,
       "text": [
        "<Timestamp: 2009-07-21 00:00:00>"
       ]
      }
     ],
     "prompt_number": 288
    },
    {
     "cell_type": "code",
     "collapsed": false,
     "input": [
      "a = np.array(['a','b','c'])\n",
      "'d' in a"
     ],
     "language": "python",
     "metadata": {},
     "outputs": [
      {
       "output_type": "pyout",
       "prompt_number": 295,
       "text": [
        "False"
       ]
      }
     ],
     "prompt_number": 295
    },
    {
     "cell_type": "code",
     "collapsed": false,
     "input": [
      "np.asarray(df.index)"
     ],
     "language": "python",
     "metadata": {},
     "outputs": [
      {
       "output_type": "pyout",
       "prompt_number": 173,
       "text": [
        "array(['2003-05-23T20:00:00.000000000-0400',\n",
        "       '2009-07-20T20:00:00.000000000-0400',\n",
        "       '2009-07-20T20:00:00.000000000-0400',\n",
        "       '2009-07-20T20:00:00.000000000-0400',\n",
        "       '2009-07-20T20:00:00.000000000-0400'], dtype='datetime64[ns]')"
       ]
      }
     ],
     "prompt_number": 173
    },
    {
     "cell_type": "code",
     "collapsed": false,
     "input": [
      "a = np.random.randn(10)"
     ],
     "language": "python",
     "metadata": {},
     "outputs": [],
     "prompt_number": 139
    },
    {
     "cell_type": "code",
     "collapsed": false,
     "input": [
      "a.size"
     ],
     "language": "python",
     "metadata": {},
     "outputs": [
      {
       "output_type": "pyout",
       "prompt_number": 142,
       "text": [
        "10"
       ]
      }
     ],
     "prompt_number": 142
    }
   ],
   "metadata": {}
  }
 ]
}